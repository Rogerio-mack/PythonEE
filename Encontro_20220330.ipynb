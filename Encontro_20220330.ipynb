{
  "nbformat": 4,
  "nbformat_minor": 0,
  "metadata": {
    "colab": {
      "name": "Encontro_20220330.ipynb",
      "provenance": [],
      "authorship_tag": "ABX9TyMtKfM1WJlz8JazC8JoPVsJ",
      "include_colab_link": true
    },
    "kernelspec": {
      "name": "python3",
      "display_name": "Python 3"
    },
    "language_info": {
      "name": "python"
    }
  },
  "cells": [
    {
      "cell_type": "markdown",
      "metadata": {
        "id": "view-in-github",
        "colab_type": "text"
      },
      "source": [
        "<a href=\"https://colab.research.google.com/github/Rogerio-mack/PythonEE/blob/main/Encontro_20220330.ipynb\" target=\"_parent\"><img src=\"https://colab.research.google.com/assets/colab-badge.svg\" alt=\"Open In Colab\"/></a>"
      ]
    },
    {
      "cell_type": "markdown",
      "source": [
        "# Hello"
      ],
      "metadata": {
        "id": "Rw6gT-g4oCzL"
      }
    },
    {
      "cell_type": "code",
      "execution_count": null,
      "metadata": {
        "colab": {
          "base_uri": "https://localhost:8080/"
        },
        "id": "K_Z3ica_n6uq",
        "outputId": "9dd9c022-d673-4747-8e78-73d03a74f0ab"
      },
      "outputs": [
        {
          "output_type": "stream",
          "name": "stdout",
          "text": [
            "Hello\n"
          ]
        }
      ],
      "source": [
        "print('Hello') "
      ]
    },
    {
      "cell_type": "code",
      "source": [
        "nome = input('Nome: ')\n",
        "print(nome)"
      ],
      "metadata": {
        "colab": {
          "base_uri": "https://localhost:8080/"
        },
        "id": "Rvl4JF2BtAkV",
        "outputId": "a0706113-1cc4-42a0-89c0-c18f4a7f7672"
      },
      "execution_count": null,
      "outputs": [
        {
          "output_type": "stream",
          "name": "stdout",
          "text": [
            "Nome: Rogerio\n",
            "Rogerio\n"
          ]
        }
      ]
    },
    {
      "cell_type": "code",
      "source": [
        "nota = float( input('Nota: ') )\n",
        "print(nota)"
      ],
      "metadata": {
        "colab": {
          "base_uri": "https://localhost:8080/"
        },
        "id": "YrLIXUWttUP4",
        "outputId": "68b744be-3205-4b11-8378-4788cab1bac9"
      },
      "execution_count": null,
      "outputs": [
        {
          "output_type": "stream",
          "name": "stdout",
          "text": [
            "Nota: 8.5\n",
            "8.5\n"
          ]
        }
      ]
    },
    {
      "cell_type": "code",
      "source": [
        "nota = nota + 1\n",
        "nota"
      ],
      "metadata": {
        "colab": {
          "base_uri": "https://localhost:8080/"
        },
        "id": "F-PrJO09tn_B",
        "outputId": "492c2dac-dccd-458a-e0c8-53043c068d45"
      },
      "execution_count": null,
      "outputs": [
        {
          "output_type": "execute_result",
          "data": {
            "text/plain": [
              "9.5"
            ]
          },
          "metadata": {},
          "execution_count": 29
        }
      ]
    },
    {
      "cell_type": "markdown",
      "source": [
        "# Funções"
      ],
      "metadata": {
        "id": "i39fHRdmn_QM"
      }
    },
    {
      "cell_type": "code",
      "source": [
        "def soma(a,b):\n",
        "  s = a + b\n",
        "  return s"
      ],
      "metadata": {
        "id": "an0HxB55oRF1"
      },
      "execution_count": null,
      "outputs": []
    },
    {
      "cell_type": "code",
      "source": [
        "soma(7,19)"
      ],
      "metadata": {
        "colab": {
          "base_uri": "https://localhost:8080/"
        },
        "id": "0BCnfMgdoccP",
        "outputId": "be69f9ff-691e-43c4-c3f3-0e30955cee49"
      },
      "execution_count": null,
      "outputs": [
        {
          "output_type": "execute_result",
          "data": {
            "text/plain": [
              "26"
            ]
          },
          "metadata": {},
          "execution_count": 3
        }
      ]
    },
    {
      "cell_type": "code",
      "source": [
        "import numpy as np\n",
        "\n",
        "def exponencial(x):\n",
        "  return np.exp(x)"
      ],
      "metadata": {
        "id": "dJQ7hZ78orSg"
      },
      "execution_count": null,
      "outputs": []
    },
    {
      "cell_type": "code",
      "source": [
        "exponencial(1)"
      ],
      "metadata": {
        "colab": {
          "base_uri": "https://localhost:8080/"
        },
        "id": "ELNX7qsJo9mV",
        "outputId": "206bc6b4-59d5-4943-f26c-b17bd85e5cbb"
      },
      "execution_count": null,
      "outputs": [
        {
          "output_type": "execute_result",
          "data": {
            "text/plain": [
              "2.718281828459045"
            ]
          },
          "metadata": {},
          "execution_count": 5
        }
      ]
    },
    {
      "cell_type": "code",
      "source": [
        "a = exponencial(2)\n",
        "a / exponencial(1)"
      ],
      "metadata": {
        "colab": {
          "base_uri": "https://localhost:8080/"
        },
        "id": "-Nh2OKc2pHEh",
        "outputId": "f0556e26-e3bd-4d35-bbf7-f4f1561d80a0"
      },
      "execution_count": null,
      "outputs": [
        {
          "output_type": "execute_result",
          "data": {
            "text/plain": [
              "2.7182818284590455"
            ]
          },
          "metadata": {},
          "execution_count": 6
        }
      ]
    },
    {
      "cell_type": "markdown",
      "source": [
        "# Condições"
      ],
      "metadata": {
        "id": "SIU_2ivSqims"
      }
    },
    {
      "cell_type": "markdown",
      "source": [
        "## Sequencial"
      ],
      "metadata": {
        "id": "0fEYcjFZrZsB"
      }
    },
    {
      "cell_type": "code",
      "source": [
        "x = 1\n",
        "y = 9\n",
        "\n",
        "print('Deu ruim')\n",
        "print('Deu ruim mesmo')\n",
        "print('Deu bom')\n",
        "print('Deu bom mesmo')"
      ],
      "metadata": {
        "colab": {
          "base_uri": "https://localhost:8080/"
        },
        "id": "LulRkMxdrbSz",
        "outputId": "675c54e6-aa27-43a3-afc6-a7eaae4a90ae"
      },
      "execution_count": null,
      "outputs": [
        {
          "output_type": "stream",
          "name": "stdout",
          "text": [
            "Deu ruim\n",
            "Deu ruim mesmo\n",
            "Deu bom\n",
            "Deu bom mesmo\n"
          ]
        }
      ]
    },
    {
      "cell_type": "markdown",
      "source": [
        "## `if`: Condicionais"
      ],
      "metadata": {
        "id": "bZj4kSL3sbet"
      }
    },
    {
      "cell_type": "code",
      "source": [
        "x = 10\n",
        "y = 9\n",
        "\n",
        "if x > y:\n",
        "  print('Deu ruim')\n",
        "  print('Deu ruim mesmo')\n",
        "else:\n",
        "  print('Deu bom')\n",
        "\n",
        "print('Deu bom mesmo') # Cuidado com a identação do código ela define os blocos de instrução"
      ],
      "metadata": {
        "colab": {
          "base_uri": "https://localhost:8080/"
        },
        "id": "kPZ0XItaqocM",
        "outputId": "7d19ffa8-bcb3-4477-fbb7-87f525f3b77d"
      },
      "execution_count": null,
      "outputs": [
        {
          "output_type": "stream",
          "name": "stdout",
          "text": [
            "Deu ruim\n",
            "Deu ruim mesmo\n",
            "Deu bom mesmo\n"
          ]
        }
      ]
    },
    {
      "cell_type": "markdown",
      "source": [
        "# Loop"
      ],
      "metadata": {
        "id": "UII2uJKasiEL"
      }
    },
    {
      "cell_type": "code",
      "source": [
        "x = 0.5\n",
        "x = x + x**2\n",
        "x\n"
      ],
      "metadata": {
        "colab": {
          "base_uri": "https://localhost:8080/"
        },
        "id": "eIcByl3psrNl",
        "outputId": "51aa16bc-153d-4742-9bbb-223e92aac1b5"
      },
      "execution_count": null,
      "outputs": [
        {
          "output_type": "execute_result",
          "data": {
            "text/plain": [
              "0.75"
            ]
          },
          "metadata": {},
          "execution_count": 30
        }
      ]
    },
    {
      "cell_type": "code",
      "source": [
        "x = 0.5\n",
        "x = x + 1/x**2\n",
        "x = x + 1/x**2\n",
        "x = x + 1/x**2\n",
        "x = x + 1/x**2\n",
        "x"
      ],
      "metadata": {
        "colab": {
          "base_uri": "https://localhost:8080/"
        },
        "id": "vetp1jYrs2Kb",
        "outputId": "119d0459-775f-4cbb-d8da-d9286293a673"
      },
      "execution_count": null,
      "outputs": [
        {
          "output_type": "execute_result",
          "data": {
            "text/plain": [
              "12.247329711914062"
            ]
          },
          "metadata": {},
          "execution_count": 31
        }
      ]
    },
    {
      "cell_type": "code",
      "source": [
        "x = 0.5\n",
        "x = x + 1/x**2\n",
        "x = x + 1/x**2\n",
        "x = x + 1/x**2\n",
        "x = x + 1/x**2\n",
        "x = x + 1/x**2\n",
        "x = x + 1/x**2\n",
        "x"
      ],
      "metadata": {
        "colab": {
          "base_uri": "https://localhost:8080/"
        },
        "id": "ySPieMAfuSFH",
        "outputId": "70728681-78fe-4086-f6e1-6b54bfd33b2c"
      },
      "execution_count": null,
      "outputs": [
        {
          "output_type": "execute_result",
          "data": {
            "text/plain": [
              "4.736789475580885"
            ]
          },
          "metadata": {},
          "execution_count": 36
        }
      ]
    },
    {
      "cell_type": "code",
      "source": [
        "x = 0.5\n",
        "\n",
        "# for i in range(inicio, fim, passo):\n",
        "# for i in range(0, 1000, 1):\n",
        "for i in range(1000):\n",
        "  x = x + 1/x**2\n",
        "  \n",
        "print(x)  "
      ],
      "metadata": {
        "colab": {
          "base_uri": "https://localhost:8080/"
        },
        "id": "0NMA_kN8ubvh",
        "outputId": "25c94d72-e7c8-4eb0-93cf-5959e9680eba"
      },
      "execution_count": null,
      "outputs": [
        {
          "output_type": "stream",
          "name": "stdout",
          "text": [
            "14.567906905216574\n"
          ]
        }
      ]
    },
    {
      "cell_type": "markdown",
      "source": [
        "# Lista"
      ],
      "metadata": {
        "id": "8PrR8Kitvd_V"
      }
    },
    {
      "cell_type": "code",
      "source": [
        "Alunos = ['Adriana','Beto','Lucas']"
      ],
      "metadata": {
        "id": "DjvMQzaHvgs-"
      },
      "execution_count": null,
      "outputs": []
    },
    {
      "cell_type": "code",
      "source": [
        "notas = [9, 8, 7]\n"
      ],
      "metadata": {
        "id": "jnA1HVBsvnNB"
      },
      "execution_count": null,
      "outputs": []
    },
    {
      "cell_type": "code",
      "source": [
        "for i in range(len(Alunos)):\n",
        "  print(Alunos[i], notas[i])"
      ],
      "metadata": {
        "colab": {
          "base_uri": "https://localhost:8080/"
        },
        "id": "_C2OqC3kvsmL",
        "outputId": "6fd812bf-4830-4d1b-d58b-5b98ece762db"
      },
      "execution_count": null,
      "outputs": [
        {
          "output_type": "stream",
          "name": "stdout",
          "text": [
            "Adriana 9\n",
            "Beto 8\n",
            "Lucas 7\n"
          ]
        }
      ]
    },
    {
      "cell_type": "code",
      "source": [
        "for aluno in Alunos:\n",
        "  print(aluno)"
      ],
      "metadata": {
        "colab": {
          "base_uri": "https://localhost:8080/"
        },
        "id": "3YJPdAyjwVZH",
        "outputId": "167a9312-e799-4011-ceb9-41f4a2be9240"
      },
      "execution_count": null,
      "outputs": [
        {
          "output_type": "stream",
          "name": "stdout",
          "text": [
            "Adriana\n",
            "Beto\n",
            "Lucas\n"
          ]
        }
      ]
    }
  ]
}